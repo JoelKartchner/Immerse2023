{
 "cells": [
  {
   "attachments": {},
   "cell_type": "markdown",
   "metadata": {},
   "source": [
    "# Todo List\n",
    "\n",
    "### Description\n",
    "A List of the things I want to accomplish in the next few days\n",
    "\n",
    "### Todo: (In no particular order)\n",
    "- Make spacer 3d model for DMD Box - Done\n",
    "- Print Filter container\n",
    "- Work on C++ GUI\n",
    "- Finish Frame GUI\n",
    "- Write Proposal\n",
    "- Read Ethics Book\n",
    "- Do Training\n",
    "- Make Door for DMD Box\n"
   ]
  }
 ],
 "metadata": {
  "language_info": {
   "name": "python"
  },
  "orig_nbformat": 4
 },
 "nbformat": 4,
 "nbformat_minor": 2
}
