{
 "cells": [
  {
   "attachments": {},
   "cell_type": "markdown",
   "metadata": {},
   "source": [
    "# Immerse Research Proposal\n",
    "### Status __Not Started__\n",
    "I need to talk to Dr Schultz about what I need to do here\n",
    "### Description\n",
    "From Learning Suite: \"Upload a 1 page proposal for the summer.  This should include the technical work that you will be doing and the Broader Impacts project.\" __DUE MAY 24__\n",
    "\n",
    "### Updates\n",
    "__15 May 2023__ Emailed Dr Schultz about specifics for the proposal. As of End of Day, he has not responded\n",
    "\n",
    "### Proposal"
   ]
  }
 ],
 "metadata": {
  "language_info": {
   "name": "python"
  },
  "orig_nbformat": 4
 },
 "nbformat": 4,
 "nbformat_minor": 2
}
