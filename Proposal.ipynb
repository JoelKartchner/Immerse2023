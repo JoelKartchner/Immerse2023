{
 "cells": [
  {
   "attachments": {},
   "cell_type": "markdown",
   "metadata": {},
   "source": [
    "# Immerse Research Proposal\n",
    "### Status __Finished__\n",
    "I need to talk to Dr Schultz about what I need to do here\n",
    "### Description\n",
    "From Learning Suite: \"Upload a 1 page proposal for the summer.  This should include the technical work that you will be doing and the Broader Impacts project.\" __DUE MAY 24__\n",
    "\n",
    "### Updates\n",
    "\n",
    "**24 May 2023** Turned in the Proprosal! Marked as **Finished**\n",
    "\n",
    "__16 May 2023__ Got Response from Dr Schultz about Proposal. He told me to pretty much do what I thought I needed to do, but to work with Brad to get it finalized. So, I will make a rough draft by Friday and then talk to Brad about it next week when he is back.\n",
    "\n",
    "__15 May 2023__ Emailed Dr Schultz about specifics for the proposal. As of End of Day, he has not responded\n",
    "\n",
    "### Proposal\n",
    "\n",
    "__Title:__ \n",
    "\n",
    "__Abstract:__\n",
    "This research proposal describes the research I will be doing as an Immerse student in the Laser Ablation Lab under Dr Schultz. In the lab we are using a high power pulsed laser system to ablate metal from a plastic film. The Goal of this research is to improve the current setup we are using to ablate metal off of plastic film with a single high power femptosecond laser by creating a system that uses many laser beams at once. This requires major alterations to the hardware and significant optimizations to the current software. By using multiple lasers at once we can speed up fabrication times for the microstructures we are interested in dramatically.\n",
    "\n",
    "__Introduction:__ \n",
    "In the lab, we are using a high powered laser to ablate (or remove) metal film from a plastic substrate, creating structures on the micrometer scale. These structues have many applications, such as metal mesh filters for use in optics and flexible microscopic cables for use in superconducting applications.(1) However, while the currect setup we have does work, we are limited in what we can do by the time it takes to create these microstructures. So, my proposed research aims at helping to scale our current system from a single laser up to many lasers all ablating at once. My part in this process will include optimizing the code running the system by converting it from python to c++, as well as participating in making hardware improvements. By scaling up our current system, we will be able to more rapidly iterate the mircostructures we make, increasing our ability to study the possibilities that this method of manufacturing may have.\n",
    "\n",
    "__Literature Review:__\n",
    "\n",
    "__Research Objectives:__\n",
    "Some objectives for the research this summer is to optimize the code by converting the current code which is in python, into c++. In the process, we want to modify the code so that we can use more than one laser beam at a time. Our goal is to make the code run fast enough that it will not limit the speed at which we can ablate.We also want to change the hardware by rearranging the layout of the optical equipment. This will involve designing mounts for equipment and creating adaquet shielding to protect the lab members from potentially harmful laser radiation. As part of Immerse, I will also be participating in a group that aims to learn and teach the basics of ethics to the other Immerse students. \n",
    "\n",
    "__Methodology:__ \n",
    "\n",
    "__Expected Results and Impact:__ \n",
    "\n",
    "\n",
    "__Ethical Considerations:__ \n",
    "1. Safety. In our lab, we regularly work with electronics, lasers and sometimes with dangerous chemicals. As such safety is of a high importance. While making modifications to our setup, we must keep in mind and mitigate the risks of electrical shock and injury from laser radiation and chemical burns. \n",
    "2. Intellectual Property and Collaboration: In our lab we regularly work with outside companies who both fund our research and expect progress. Some ethical considerations might be how we communicate our progress, and how we use the money provided to us. \n",
    "3. Responsible use of Technology: While the technology we are developing \n",
    "\n",
    "__References:__\n",
    "\n"
   ]
  }
 ],
 "metadata": {
  "language_info": {
   "name": "python"
  },
  "orig_nbformat": 4
 },
 "nbformat": 4,
 "nbformat_minor": 2
}
