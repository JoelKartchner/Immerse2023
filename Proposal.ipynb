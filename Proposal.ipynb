{
 "cells": [
  {
   "attachments": {},
   "cell_type": "markdown",
   "metadata": {},
   "source": [
    "# Immerse Research Proposal\n",
    "### Status __Not Started__\n",
    "I need to talk to Dr Schultz about what I need to do here\n",
    "### Description\n",
    "From Learning Suite: \"Upload a 1 page proposal for the summer.  This should include the technical work that you will be doing and the Broader Impacts project.\" __DUE MAY 24__\n",
    "\n",
    "### Updates\n",
    "__16 May 2023__ Got Response from Dr Schultz about Proposal. He told me to pretty much do what I thought I needed to do, but to work with Brad to get it finalized. So, I will make a rough draft by Friday and then talk to Brad about it next week when he is back.\n",
    "\n",
    "__15 May 2023__ Emailed Dr Schultz about specifics for the proposal. As of End of Day, he has not responded\n",
    "\n",
    "### Proposal"
   ]
  }
 ],
 "metadata": {
  "language_info": {
   "name": "python"
  },
  "orig_nbformat": 4
 },
 "nbformat": 4,
 "nbformat_minor": 2
}
