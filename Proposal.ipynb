{
 "cells": [
  {
   "attachments": {},
   "cell_type": "markdown",
   "metadata": {},
   "source": [
    "# Immerse Research Proposal\n",
    "\n",
    "### Description\n",
    "From Learning Suite: \"Upload a 1 page proposal for the summer.  This should include the technical work that you will be doing and the Broader Impacts project.\" __DUE MAY 24__\n",
    "\n",
    "### Proposal"
   ]
  }
 ],
 "metadata": {
  "language_info": {
   "name": "python"
  },
  "orig_nbformat": 4
 },
 "nbformat": 4,
 "nbformat_minor": 2
}
