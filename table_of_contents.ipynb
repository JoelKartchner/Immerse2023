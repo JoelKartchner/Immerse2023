{
 "cells": [
  {
   "cell_type": "code",
   "execution_count": null,
   "metadata": {},
   "outputs": [],
   "source": []
  },
  {
   "attachments": {},
   "cell_type": "markdown",
   "metadata": {},
   "source": [
    "# Table of Contents\n",
    "\n",
    "### Projects\n",
    "- Frame GUI (Python)\n",
    "- Create C++ GUI\n",
    "- Run Stage from C++\n",
    "- DMD T-slot box\n",
    "- Glasses Boxes\n",
    "- Monitor Mount\n",
    "- Laser Blocking Fence\n",
    "\n",
    "### Information\n"
   ]
  }
 ],
 "metadata": {
  "language_info": {
   "name": "python"
  },
  "orig_nbformat": 4
 },
 "nbformat": 4,
 "nbformat_minor": 2
}
