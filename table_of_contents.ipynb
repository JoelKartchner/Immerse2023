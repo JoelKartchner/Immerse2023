{
 "cells": [
  {
   "attachments": {},
   "cell_type": "markdown",
   "metadata": {},
   "source": [
    "# Table of Contents\n",
    "\n",
    "### Projects\n",
    "- Proposal __DUE MAY 24__\n",
    "- [Training](https://github.com/JoelKartchner/Immerse2023/blob/62ec63225678b163dd68e2a39799d5939ed6edfb/Training.ipynb)\n",
    "- [Frame GUI (Python)](https://github.com/JoelKartchner/Immerse2023/blob/f3c148aede83160b5d4f077890404db0b2b99c0b/FrameGUI.ipynb)\n",
    "- [DMD T-slot box](https://github.com/JoelKartchner/Immerse2023/blob/3592ff350367fe766c90cec681f3698ee19fd424/DMD_TSlotBox.ipynb)\n",
    "- Filter Holder\n",
    "- Create C++ GUI\n",
    "- Run Stage from C++\n",
    "- Glasses Boxes\n",
    "- Monitor Mount\n",
    "- Laser Blocking Fence\n",
    "\n",
    "\n",
    "### Information\n"
   ]
  }
 ],
 "metadata": {
  "language_info": {
   "name": "python"
  },
  "orig_nbformat": 4
 },
 "nbformat": 4,
 "nbformat_minor": 2
}
