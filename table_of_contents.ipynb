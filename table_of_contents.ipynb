{
 "cells": [
  {
   "attachments": {},
   "cell_type": "markdown",
   "metadata": {},
   "source": [
    "# Table of Contents\n",
    "\n",
    "### Current Projects\n",
    "- [Proposal](https://github.com/JoelKartchner/Immerse2023/blob/main/Proposal.ipynb) __DUE MAY 24__\n",
    "- [Training](https://github.com/JoelKartchner/Immerse2023/blob/main/Training.ipynb)\n",
    "- [Frame GUI (Python)](https://github.com/JoelKartchner/Immerse2023/blob/main/FrameGUI.ipynb)\n",
    "- [DMD T-slot box](https://github.com/JoelKartchner/Immerse2023/blob/main/DMD_TSlotBox.ipynb)\n",
    "- [Filter Container](https://github.com/JoelKartchner/Immerse2023/blob/main/FilterHolder.ipynb)\n",
    "- [Create C++ GUI](https://github.com/JoelKartchner/Immerse2023/blob/main/CPlusPlusGUI.ipynb)\n",
    "\n",
    "### Future Projects\n",
    "- Run Stage from C++\n",
    "- Glasses Boxes\n",
    "- Monitor Mount\n",
    "- Laser Blocking Fence\n",
    "\n",
    "### Past Projects\n",
    "\n",
    "\n",
    "### Information\n"
   ]
  }
 ],
 "metadata": {
  "language_info": {
   "name": "python"
  },
  "orig_nbformat": 4
 },
 "nbformat": 4,
 "nbformat_minor": 2
}
