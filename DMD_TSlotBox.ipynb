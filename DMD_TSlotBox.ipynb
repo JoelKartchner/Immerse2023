{
 "cells": [
  {
   "attachments": {},
   "cell_type": "markdown",
   "metadata": {},
   "source": [
    "# DMD T Slot Box\n",
    "\n",
    "### Status: __In Progress__\n",
    "Made the frame.\n",
    "\n",
    "### Description\n",
    "This project consists of making a box out of aluminum extrusions and sign material to cover the DMD and the mirrors near it. This is to eliminate the danger of light scattered by the DMD. \n",
    "\n",
    "### Updates\n",
    "\n",
    "__17 May 2023__ In talking to Sam and Ryan, we had the idea to either have the doors open upwards or to have them be attached with magnets. I think it is a good idea.\n",
    "\n",
    "__12 May 2023__: I made the box today! It currently has a frame with 3 sides covered. I'm thinking of filling in one of the other sides with the black sign material, and then making a door for the other side. Some possible problems with the way I have made it is that is isn't easy to take apart and work on. Hopefully that won't be a problem, but it might be.\n",
    "\n",
    "<div style=\"text-align: center;\">\n",
    "    <image src=\"https://raw.githubusercontent.com/JoelKartchner/Immerse2023/main/Images/TSlotBox1.jpg\" alt=\"Picture of DMD Box\" width=75% height=75% title=\"Picture of GUI\">\n",
    "    </div>\n",
    "\n",
    "__10 May 2023__: The current plan is to create a six-sided frame that is designed to rest on the edges of the table. For the parts that will be on the main part of the table (the part with bolt-holes), I will make small spacers to go on the bottom of the extrusions. Three of the sides of the frame (the two outward facing sides, and the side where the light will exit) will have the black board inside. The bottom will be open, the top and remaining side will be doors. The side door will open outward to enable us to open the box an place a camera or light inside if neccesary. \n",
    "\n",
    "__8 May 2023__ Project Started. Made a 3d Model in Fusion 360 for a possible design, sent it to Brad for approval.\n",
    "\n",
    "<div style=\"text-align: center;\">\n",
    "    <image src=\"https://raw.githubusercontent.com/JoelKartchner/Immerse2023/main/Images/dmd_box_3d_model1.png?token=GHSAT0AAAAAACCGDBCOJY6JKHRZMQEHNLKKZCZQQNQ\" alt=\"3D Model v1\" width=50% height=50% title=\"1st iteration of 3d model\">\n",
    "    </div>\n",
    "\n",
    "This design will need messed with because I can't move any of the mirrors, and one is on the way. What I will do instead is create the frame, and then add the sides separately.\n",
    "\n"
   ]
  }
 ],
 "metadata": {
  "language_info": {
   "name": "python"
  },
  "orig_nbformat": 4
 },
 "nbformat": 4,
 "nbformat_minor": 2
}
