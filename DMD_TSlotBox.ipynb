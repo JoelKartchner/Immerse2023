{
 "cells": [
  {
   "attachments": {},
   "cell_type": "markdown",
   "metadata": {},
   "source": [
    "# DMD T Slot Box\n",
    "\n",
    "### Status: Started\n",
    "\n",
    "### Description\n",
    "This project consists of making a box out of aluminum extrusions and sign material to cover the DMD and the mirrors near it. This is to eliminate the danger of light scattered by the DMD. \n",
    "\n",
    "### Updates\n",
    "\n",
    "__8 May 2023__ Project Started. Made a 3d Model in Fusion 360 for a possible design, sent it to Brad for approval.\n",
    "\n",
    "<div style=\"text-align: center;\">\n",
    "    <image src=\"https://raw.githubusercontent.com/JoelKartchner/Immerse2023/main/Images/dmd_box_3d_model1.png?token=GHSAT0AAAAAACCGDBCOJY6JKHRZMQEHNLKKZCZQQNQ\" alt=\"3D Model v1\" width=50% height=50% title=\"1st iteration of 3d model\">\n",
    "    </div>\n",
    "\n",
    "This design will need messed with because I can't move any of the mirrors, and one is on the way. What I will do instead is create the frame, and then add the sides separately."
   ]
  }
 ],
 "metadata": {
  "language_info": {
   "name": "python"
  },
  "orig_nbformat": 4
 },
 "nbformat": 4,
 "nbformat_minor": 2
}
