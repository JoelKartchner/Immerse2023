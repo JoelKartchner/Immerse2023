{
 "cells": [
  {
   "attachments": {},
   "cell_type": "markdown",
   "metadata": {},
   "source": [
    "# DMD T Slot Box\n",
    "\n",
    "### Status: Started\n",
    "\n",
    "### Description\n",
    "This project consists of making a box out of aluminum extrusions and sign material to cover the DMD and the mirrors near it. This is to eliminate the danger of light scattered by the DMD. \n",
    "\n",
    "### Updates\n",
    "\n",
    "__8 May 2023__ Project Started"
   ]
  }
 ],
 "metadata": {
  "language_info": {
   "name": "python"
  },
  "orig_nbformat": 4
 },
 "nbformat": 4,
 "nbformat_minor": 2
}
