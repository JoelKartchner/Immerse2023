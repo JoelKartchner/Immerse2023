{
 "cells": [
  {
   "attachments": {},
   "cell_type": "markdown",
   "metadata": {},
   "source": [
    "# Ethics Broader Impact Group\n",
    "\n",
    "### Status: __Started__\n",
    "We had our first meeting. I need to read the book before wednesday\n",
    "\n",
    "### Description\n",
    "The purpose of this broader impact group is to formulate ethical statements for different situations that may occur later in our carrers\n",
    "\n",
    "### Updates\n",
    "\n",
    "__17 May 2023__: Read chapter 1 and did the excersises in the book. Had our Ethics meeting where we pretty much just talked about the chapter and met some more of the people in the group"
   ]
  }
 ],
 "metadata": {
  "language_info": {
   "name": "python"
  },
  "orig_nbformat": 4
 },
 "nbformat": 4,
 "nbformat_minor": 2
}
