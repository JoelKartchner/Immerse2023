{
 "cells": [
  {
   "attachments": {},
   "cell_type": "markdown",
   "metadata": {},
   "source": [
    "# C++ GUI\n",
    "\n",
    "### Description\n",
    "Create a GUI in C++ that mimics the GUI used currently to move and run the laser. This does not need to do very much, it just needs to connect to functions that print what they do to the terminal. "
   ]
  }
 ],
 "metadata": {
  "language_info": {
   "name": "python"
  },
  "orig_nbformat": 4
 },
 "nbformat": 4,
 "nbformat_minor": 2
}
