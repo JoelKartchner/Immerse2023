{
 "cells": [
  {
   "attachments": {},
   "cell_type": "markdown",
   "metadata": {},
   "source": [
    "# Training\n",
    "### Status: __In Progress__\n",
    "Slowing getting through all of the trainings\n",
    "### Description\n",
    "This is a place where I can keep track of all of the trainings I have done or need to do.\n",
    "### Completed Training\n",
    "- Basic Laboratory Safety Training (College of Engineering)  - 3 May 2023\n",
    "- Basic BYU Training  - 2 May 2023\n",
    "- Cleanroom Training (Online)  - 3 May 2023\n",
    "- Hydrofluoric Acid  - 3 May 2023\n",
    "### Training TODO\n",
    "- Hazard Communication Training\n",
    "- Prototyping Lab Safetey Training\n",
    "- TA and RA Safety Training\n",
    "- Chemical spill response\n",
    "- Emergency Eyewash and shower safety \n",
    "- Hazcom Training\n",
    "- In Person Cleanroom Training (11 May 2023)\n",
    "- Optics Lab training"
   ]
  }
 ],
 "metadata": {
  "language_info": {
   "name": "python"
  },
  "orig_nbformat": 4
 },
 "nbformat": 4,
 "nbformat_minor": 2
}
