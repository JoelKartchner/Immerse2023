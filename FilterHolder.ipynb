{
 "cells": [
  {
   "attachments": {},
   "cell_type": "markdown",
   "metadata": {},
   "source": [
    "# Filter Holder \n",
    "### Description \n",
    "Create a 3D model and print a container to hold filters we create and send to other labs. The container should protect the filter, and be as small as possible\n",
    "### Updates\n",
    "__9 May 2023__ Started. Took a filter cap thing home.\n",
    "__10 May 2023__ Made 3d Model. The container consists of a top and a bottom that screw together. Redesigned the container to have an octagonal base. Printed it. \n",
    "\n",
    "\n"
   ]
  }
 ],
 "metadata": {
  "language_info": {
   "name": "python"
  },
  "orig_nbformat": 4
 },
 "nbformat": 4,
 "nbformat_minor": 2
}
