{
 "cells": [
  {
   "attachments": {},
   "cell_type": "markdown",
   "metadata": {},
   "source": [
    "# Filter Holder \n",
    "### Description \n",
    "Create a 3D model and print a container to hold filters we create and send to other labs. The container should protect the filter, and be as small as possible\n",
    "### Updates\n",
    "__9 May 2023__ Started. Took a filter cap thing home."
   ]
  }
 ],
 "metadata": {
  "language_info": {
   "name": "python"
  },
  "orig_nbformat": 4
 },
 "nbformat": 4,
 "nbformat_minor": 2
}
