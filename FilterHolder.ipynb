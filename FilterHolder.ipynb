{
 "cells": [
  {
   "attachments": {},
   "cell_type": "markdown",
   "metadata": {},
   "source": [
    "# Filter Holder \n",
    "### Status: __Finished__\n",
    "I need to Print another prototype to fix a few minor issues with the previous one. If that one is good, then I will send Brad the Files and be done\n",
    "### Description \n",
    "Create a 3D model and print a container to hold filters we create and send to other labs. The container should protect the filter, and be as small as possible\n",
    "### Updates\n",
    "**25 May 2023** Made one last change to the dimensions and gave the step files to Brad. Marked as **Finished**\n",
    "\n",
    "__15 May 2023__ Printed the new design. It works great! I will send this stl to Brad. The only thing I may change is rotating the threads so that they line up when it is closed all of the way. \n",
    "\n",
    "<div style=\"text-align: center;\">\n",
    "    <image src=\"https://raw.githubusercontent.com/JoelKartchner/Immerse2023/main/Images/FilterContainerv3.jpg\" width = 50% height=50%>\n",
    "    </div>\n",
    "\n",
    "__11 May 2023__ Changed the design slightly to make it fit better, and rounded the edges to make the container more ergonomic\n",
    "\n",
    "__10 May 2023__ Made 3d Model. The container consists of a top and a bottom that screw together. \n",
    "<div style=\"text-align: center;\">\n",
    "    <image src=\"https://raw.githubusercontent.com/JoelKartchner/Immerse2023/main/Images/FilterContainerv1.png?token=GHSAT0AAAAAACCGDBCPLCZQSCLHCAY6ZP4UZC6XLWQ\" alt=\"Picture of GUI\" width=30% height=30% title=\"Picture of GUI\">\n",
    "    </div>\n",
    "Redesigned the container to have an octagonal base. Printed it. \n",
    "<div style=\"text-align: center;\">\n",
    "    <image src=\"https://raw.githubusercontent.com/JoelKartchner/Immerse2023/main/Images/filtercontainerv2.png?token=GHSAT0AAAAAACCGDBCP6KHWL4VZOYQ4YTUQZC6XM7A\" alt=\"Picture of GUI\" width=50% height=50% title=\"Picture of GUI\">\n",
    "    <image src=\"https://raw.githubusercontent.com/JoelKartchner/Immerse2023/main/Images/filtercontainerprint.jpg?token=GHSAT0AAAAAACCGDBCP5LXM63HY2FSMHKCMZC6XOEQ\" alt=\"Picture of GUI\" width=30% height=30% title=\"Picture of GUI\">\n",
    "    </div>\n",
    "\n",
    "__9 May 2023__ Started. Took a filter cap thing home.\n",
    "\n",
    "\n",
    "\n",
    "\n",
    "\n"
   ]
  }
 ],
 "metadata": {
  "language_info": {
   "name": "python"
  },
  "orig_nbformat": 4
 },
 "nbformat": 4,
 "nbformat_minor": 2
}
