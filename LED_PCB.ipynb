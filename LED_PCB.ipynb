{
 "cells": [
  {
   "cell_type": "code",
   "execution_count": null,
   "metadata": {},
   "outputs": [],
   "source": []
  },
  {
   "attachments": {},
   "cell_type": "markdown",
   "metadata": {},
   "source": [
    "# LED PCB\n",
    "\n",
    "### Status: **In Progress**\n",
    "\n",
    "### Description:\n",
    "Make a half-circle of leds on a pcb that we can mount on the objective lens or near it to shine light through the surface we are ablating to see what is happening\n",
    "\n",
    "### Updates:\n",
    "\n",
    "**2 June 2023:** Designed the PCB, and sent it to the shop to be printed\n",
    "\n",
    "**26 May 2023** Brad and I talked about doing this project. Page Created. Will start next week"
   ]
  }
 ],
 "metadata": {
  "language_info": {
   "name": "python"
  },
  "orig_nbformat": 4
 },
 "nbformat": 4,
 "nbformat_minor": 2
}
