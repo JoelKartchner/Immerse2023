{
 "cells": [
  {
   "attachments": {},
   "cell_type": "markdown",
   "metadata": {},
   "source": [
    "# Frame GUI\n",
    "\n",
    "### Status: __Nearing Completion__\n",
    "The only other thing I want to do is add a few usability features like explanations of each component. Then it will be finished for the time being\n",
    "\n",
    "### Description\n",
    "Create a GUI in python that can be used to create individual frames for the DMD. Simply put, we can create and edit text files that when run on the DMD will make an image using the mirrors. Note however that this is not used for ablating images.It is only for creating a single frame to be put on the DMD. Ablating an image requires many frames to move the laser where we want it. \n",
    "\n",
    "The GUI will consist of at least a resizable grid of squares that change color when clicked, and a way to export the configuration of colored and uncolored squares to a text file. Other features, such as importing files are optional. \n",
    "\n",
    "### Updates\n",
    "__15 May 2023__: Changed the title of the window and added a custom icon. \n",
    "\n",
    "__9 May 2023__: Finished the symmetry checkboxes\n",
    "\n",
    "__8 May 2023__: The GUI is nearing completion. Features include all required features plus the ability to draw by clicking and holding the mouse, importing text files, continuity when resizing the grid, reseting the grid and more. Current Features in progress are: Checkboxes for symmetry, Labels for messages, Title and image for window.\n",
    "<div style=\"text-align: center;\">\n",
    "    <image src=\"https://raw.githubusercontent.com/JoelKartchner/Immerse2023/main/Images/GUI1.png\" alt=\"Picture of GUI\" width=50% height=50% title=\"Picture of GUI\">\n",
    "    </div>\n",
    "\n",
    "\n",
    "\n"
   ]
  }
 ],
 "metadata": {
  "language_info": {
   "name": "python"
  },
  "orig_nbformat": 4
 },
 "nbformat": 4,
 "nbformat_minor": 2
}
