{
 "cells": [
  {
   "attachments": {},
   "cell_type": "markdown",
   "metadata": {},
   "source": [
    "# Frame GUI\n",
    "\n",
    "### Status: __In Progress__\n",
    "Working on adding non-square frames and reading and writing files with multiple frames\n",
    "\n",
    "### Description\n",
    "Create a GUI in python that can be used to create individual frames for the DMD. Simply put, we can create and edit text files that when run on the DMD will make an image using the mirrors. Note however that this is not used for ablating images.It is only for creating a single frame to be put on the DMD. Ablating an image requires many frames to move the laser where we want it. \n",
    "\n",
    "The GUI will consist of at least a resizable grid of squares that change color when clicked, and a way to export the configuration of colored and uncolored squares to a text file. Other features, such as importing files are optional. \n",
    "\n",
    "### Updates\n",
    "\n",
    "**26 May 2023:** I'm working on making the GUI work with non-square grids. I implemented the changes in the GUI, though they don't yet do anything internally\n",
    "\n",
    "**25 May 2023:** Fixed bugs and finished implementing the multi-frames! It works pretty well now. Pushed the new version to git.\n",
    "\n",
    "**24 May 2023** I got the GUI to work with multi-frame files! It still has some issues, but it does work\n",
    "\n",
    "**23 May 2023:** Worked on the GUI. I've added several of the feature that I want, but I have a bug that is making it very difficult to write to multi-frame files\n",
    " \n",
    "__22 May 2023:__ Status changed from __Almost Finished__ to **In Progress**. This is because I am going to add some more features. I want to add the ability to have non-square frame, since the DMD is not square, and I want to be able to read and write files that have more than one frame in them. This will require that I re-work several parts of the GUI, which may take some time.\n",
    "\n",
    "I want the program to start with a blank grid. You can import a file, or you can just draw on the grid. If you want to add a new frame, there will be a button for that, and when you press it you will be prompted to save your first grid. From then on, the file you are working with will be read and written to. I will change the export file button to a save button. If you opened a file to edit, it will automatically save to that same file. \n",
    "\n",
    "__18 May 2023:__ Added Tooltips for the major parts of the GUI\n",
    "\n",
    "__15 May 2023__: Changed the title of the window and added a custom icon. \n",
    "\n",
    "__9 May 2023__: Finished the symmetry checkboxes\n",
    "\n",
    "__8 May 2023__: The GUI is nearing completion. Features include all required features plus the ability to draw by clicking and holding the mouse, importing text files, continuity when resizing the grid, reseting the grid and more. Current Features in progress are: Checkboxes for symmetry, Labels for messages, Title and image for window.\n",
    "<div style=\"text-align: center;\">\n",
    "    <image src=\"https://raw.githubusercontent.com/JoelKartchner/Immerse2023/main/Images/GUI1.png\" alt=\"Picture of GUI\" width=50% height=50% title=\"Picture of GUI\">\n",
    "    </div>\n",
    "\n",
    "\n",
    "\n"
   ]
  }
 ],
 "metadata": {
  "language_info": {
   "name": "python"
  },
  "orig_nbformat": 4
 },
 "nbformat": 4,
 "nbformat_minor": 2
}
